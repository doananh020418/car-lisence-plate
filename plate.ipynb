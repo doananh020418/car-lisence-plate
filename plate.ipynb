{
  "nbformat": 4,
  "nbformat_minor": 0,
  "metadata": {
    "colab": {
      "name": "plate",
      "provenance": [],
      "collapsed_sections": [],
      "toc_visible": true,
      "include_colab_link": true
    },
    "kernelspec": {
      "name": "python3",
      "display_name": "Python 3"
    }
  },
  "cells": [
    {
      "cell_type": "markdown",
      "metadata": {
        "id": "view-in-github",
        "colab_type": "text"
      },
      "source": [
        "<a href=\"https://colab.research.google.com/github/doananh020418/car-lisence-plate/blob/main/plate.ipynb\" target=\"_parent\"><img src=\"https://colab.research.google.com/assets/colab-badge.svg\" alt=\"Open In Colab\"/></a>"
      ]
    },
    {
      "cell_type": "code",
      "metadata": {
        "id": "Jgv2IwLK2XrY"
      },
      "source": [
        "%matplotlib inline\n",
        "import os\n",
        "import cv2\n",
        "import numpy as np\n",
        "import pandas as pd\n",
        "import seaborn as sn\n",
        "import matplotlib.pyplot as plt\n",
        "from sklearn.metrics import f1_score\n",
        "from sklearn.metrics import recall_score\n",
        "from sklearn.metrics import accuracy_score\n",
        "from sklearn.metrics import precision_score\n",
        "from sklearn.metrics import confusion_matrix\n",
        "from sklearn.metrics import classification_report\n",
        "from sklearn.model_selection import StratifiedShuffleSplit\n",
        "from sklearn.model_selection import train_test_split\n",
        "from sklearn.metrics import classification_report"
      ],
      "execution_count": null,
      "outputs": []
    },
    {
      "cell_type": "code",
      "metadata": {
        "id": "_-vbKmQb3GCP",
        "colab": {
          "base_uri": "https://localhost:8080/",
          "height": 54
        },
        "outputId": "df1ab797-8ef6-4674-8c74-c49dba4bf6e9"
      },
      "source": [
        "X = []\n",
        "Y = []\n",
        "list_link = os.listdir(r'/content/drive/My Drive/Plate detection/data/')\n",
        "print(list_link)\n"
      ],
      "execution_count": null,
      "outputs": [
        {
          "output_type": "stream",
          "text": [
            "['52', '51', '49', '48', '50', '53', '66', '56', '65', '54', '57', '55', '67', '68', '69', '70', '76', '78', '72', '71', '75', '77', '83', '84', '82', '80', '86', '88', '85', '89', '90']\n"
          ],
          "name": "stdout"
        }
      ]
    },
    {
      "cell_type": "code",
      "metadata": {
        "id": "md2OL4IQ6BqY",
        "colab": {
          "base_uri": "https://localhost:8080/",
          "height": 34
        },
        "outputId": "25aea23c-1401-4453-aacc-24de4d49c41a"
      },
      "source": [
        "from google.colab import drive\n",
        "drive.mount('/content/drive')"
      ],
      "execution_count": null,
      "outputs": [
        {
          "output_type": "stream",
          "text": [
            "Drive already mounted at /content/drive; to attempt to forcibly remount, call drive.mount(\"/content/drive\", force_remount=True).\n"
          ],
          "name": "stdout"
        }
      ]
    },
    {
      "cell_type": "code",
      "metadata": {
        "id": "lvQaFD5Y3KO2"
      },
      "source": [
        "for i in list_link:\n",
        "    link = r'/content/drive/My Drive/Plate detection/data/{}'.format(i)\n",
        "    link_img = os.listdir(link)\n",
        "    for j in link_img:\n",
        "        img = cv2.imread(r'/content/drive/My Drive/Plate detection/data/{}/{}'.format(i,j), 0)\n",
        "        img = cv2.resize(img,(30,60))\n",
        "        img = img.reshape(1, -1)\n",
        "        X.append(img[0].tolist())\n",
        "        Y.append(int(i))\n",
        "        \n",
        "        \n",
        "        "
      ],
      "execution_count": null,
      "outputs": []
    },
    {
      "cell_type": "code",
      "metadata": {
        "id": "BVicAcm13MSs"
      },
      "source": [
        "X = np.array(X,dtype=np.float32)\n",
        "Y = np.array(Y)"
      ],
      "execution_count": null,
      "outputs": []
    },
    {
      "cell_type": "code",
      "metadata": {
        "id": "jIp9mRX_3QIB"
      },
      "source": [
        "#X_train, X_test, y_train, y_test = train_test_split(X,Y, test_size=0.2)#, random_state=7\n",
        "sss = StratifiedShuffleSplit(n_splits=2, test_size=0.2)\n",
        "for train_index, test_index in sss.split(X, Y):\n",
        "    X_train, X_test = X[train_index], X[test_index]\n",
        "    y_train, y_test = Y[train_index], Y[test_index]\n",
        "\n",
        "y_train = y_train.reshape(-1, 1)\n"
      ],
      "execution_count": null,
      "outputs": []
    },
    {
      "cell_type": "code",
      "metadata": {
        "id": "eH-_A63k3Slt",
        "colab": {
          "base_uri": "https://localhost:8080/"
        },
        "outputId": "48abf955-82db-4877-b6e1-2b771d9ad404"
      },
      "source": [
        "svm_model = cv2.ml.SVM_create()\n",
        "svm_model.setType(cv2.ml.SVM_C_SVC)\n",
        "svm_model.setKernel(cv2.ml.SVM_INTER)\n",
        "svm_model.setTermCriteria((cv2.TERM_CRITERIA_MAX_ITER, 1000, 1e-10))\n",
        "svm_model.train(X_train, cv2.ml.ROW_SAMPLE, y_train)\n",
        "#svm_model.save(\"model_svm.xml\")"
      ],
      "execution_count": null,
      "outputs": [
        {
          "output_type": "execute_result",
          "data": {
            "text/plain": [
              "True"
            ]
          },
          "metadata": {
            "tags": []
          },
          "execution_count": 16
        }
      ]
    },
    {
      "cell_type": "code",
      "metadata": {
        "id": "WqLBDYrW3VPn"
      },
      "source": [
        "a = svm_model.predict(X_test)\n",
        "y_predicted = []\n",
        "for i in a[1]:\n",
        "    y_predicted.append(i[0])\n",
        "y_predicted = np.array(y_predicted)\n"
      ],
      "execution_count": null,
      "outputs": []
    },
    {
      "cell_type": "code",
      "metadata": {
        "id": "2_XmoXrf86gl",
        "colab": {
          "base_uri": "https://localhost:8080/"
        },
        "outputId": "6529f1c5-5850-45ad-b207-fd1329119eac"
      },
      "source": [
        "target = [chr(x) for x in y_predicted]\n",
        "target = list(set(target))\n",
        "target.sort()\n",
        "print('accuracy  = ',accuracy_score(y_test,y_predicted))\n",
        "print('precision = ', precision_score(y_test,y_predicted,average= 'weighted'))\n",
        "print('recall    = ', recall_score(y_test,y_predicted,average= 'weighted'))\n",
        "print(\"f1        =\", f1_score(y_test,y_predicted, average= 'weighted'))\n",
        "print(classification_report(y_test, y_predicted, target_names=target))"
      ],
      "execution_count": null,
      "outputs": [
        {
          "output_type": "stream",
          "text": [
            "accuracy  =  0.9809523809523809\n",
            "precision =  0.9825452325452324\n",
            "recall    =  0.9809523809523809\n",
            "f1        = 0.9803632457767796\n",
            "              precision    recall  f1-score   support\n",
            "\n",
            "           0       0.93      0.93      0.93        14\n",
            "           1       0.92      1.00      0.96        12\n",
            "           2       1.00      0.92      0.96        13\n",
            "           3       1.00      1.00      1.00         4\n",
            "           4       1.00      1.00      1.00         2\n",
            "           5       1.00      1.00      1.00        14\n",
            "           6       0.91      1.00      0.95        10\n",
            "           7       1.00      1.00      1.00         4\n",
            "           8       1.00      1.00      1.00         8\n",
            "           9       1.00      1.00      1.00         8\n",
            "           A       1.00      1.00      1.00         4\n",
            "           B       1.00      1.00      1.00        11\n",
            "           C       1.00      1.00      1.00         7\n",
            "           D       1.00      0.90      0.95        10\n",
            "           E       1.00      1.00      1.00        10\n",
            "           F       1.00      0.50      0.67         2\n",
            "           G       1.00      1.00      1.00         4\n",
            "           H       1.00      1.00      1.00        12\n",
            "           K       1.00      1.00      1.00         3\n",
            "           L       1.00      1.00      1.00         4\n",
            "           M       1.00      1.00      1.00         3\n",
            "           N       1.00      1.00      1.00         5\n",
            "           P       1.00      1.00      1.00        12\n",
            "           R       1.00      1.00      1.00         6\n",
            "           S       1.00      1.00      1.00         3\n",
            "           T       1.00      1.00      1.00         1\n",
            "           U       1.00      1.00      1.00         7\n",
            "           V       1.00      1.00      1.00         2\n",
            "           X       1.00      1.00      1.00         6\n",
            "           Y       1.00      1.00      1.00         4\n",
            "           Z       0.83      1.00      0.91         5\n",
            "\n",
            "    accuracy                           0.98       210\n",
            "   macro avg       0.99      0.98      0.98       210\n",
            "weighted avg       0.98      0.98      0.98       210\n",
            "\n"
          ],
          "name": "stdout"
        }
      ]
    },
    {
      "cell_type": "code",
      "metadata": {
        "id": "nv_QVo9luysn",
        "colab": {
          "base_uri": "https://localhost:8080/",
          "height": 845
        },
        "outputId": "db48b250-7c2f-4c68-fe67-08c3fcc401b3"
      },
      "source": [
        "cm = confusion_matrix(y_test, y_predicted)\n",
        "cm = pd.DataFrame(data = cm[0:,0:], index = target, columns = target)\n",
        "plt.figure(figsize = (20,14))\n",
        "sn.heatmap(cm, annot=True)\n",
        "plt.xlabel(\"Predict\")\n",
        "plt.ylabel(\"Truth\")\n"
      ],
      "execution_count": null,
      "outputs": [
        {
          "output_type": "execute_result",
          "data": {
            "text/plain": [
              "Text(159.0, 0.5, 'Truth')"
            ]
          },
          "metadata": {
            "tags": []
          },
          "execution_count": 19
        },
        {
          "output_type": "display_data",
          "data": {
            "image/png": "[encoded data removed]",
            "text/plain": [
              "<Figure size 1440x1008 with 2 Axes>"
            ]
          },
          "metadata": {
            "tags": [],
            "needs_background": "light"
          }
        }
      ]
    }
  ]
}